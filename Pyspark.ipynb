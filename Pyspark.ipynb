{
  "nbformat": 4,
  "nbformat_minor": 0,
  "metadata": {
    "colab": {
      "provenance": []
    },
    "kernelspec": {
      "name": "python3",
      "display_name": "Python 3"
    },
    "language_info": {
      "name": "python"
    }
  },
  "cells": [
    {
      "cell_type": "code",
      "source": [
        "!pip install pyspark"
      ],
      "metadata": {
        "colab": {
          "base_uri": "https://localhost:8080/"
        },
        "id": "C2ptBPzq73fZ",
        "outputId": "2b005ce5-319d-497b-ffae-34fda268e53a"
      },
      "execution_count": null,
      "outputs": [
        {
          "output_type": "stream",
          "name": "stdout",
          "text": [
            "Collecting pyspark\n",
            "  Downloading pyspark-3.5.0.tar.gz (316.9 MB)\n",
            "\u001b[2K     \u001b[90m━━━━━━━━━━━━━━━━━━━━━━━━━━━━━━━━━━━━━━━━\u001b[0m \u001b[32m316.9/316.9 MB\u001b[0m \u001b[31m4.1 MB/s\u001b[0m eta \u001b[36m0:00:00\u001b[0m\n",
            "\u001b[?25h  Preparing metadata (setup.py) ... \u001b[?25l\u001b[?25hdone\n",
            "Requirement already satisfied: py4j==0.10.9.7 in /usr/local/lib/python3.10/dist-packages (from pyspark) (0.10.9.7)\n",
            "Building wheels for collected packages: pyspark\n",
            "  Building wheel for pyspark (setup.py) ... \u001b[?25l\u001b[?25hdone\n",
            "  Created wheel for pyspark: filename=pyspark-3.5.0-py2.py3-none-any.whl size=317425345 sha256=0762d22deca2166bc97166f735a0c84d33b80daaa7e0551e9ffe2e003786128f\n",
            "  Stored in directory: /root/.cache/pip/wheels/41/4e/10/c2cf2467f71c678cfc8a6b9ac9241e5e44a01940da8fbb17fc\n",
            "Successfully built pyspark\n",
            "Installing collected packages: pyspark\n",
            "Successfully installed pyspark-3.5.0\n"
          ]
        }
      ]
    },
    {
      "cell_type": "code",
      "source": [
        "pip --version"
      ],
      "metadata": {
        "colab": {
          "base_uri": "https://localhost:8080/"
        },
        "id": "sXz_mBM58Sru",
        "outputId": "f57e19a2-7377-4281-932f-2993b1d9c14a"
      },
      "execution_count": null,
      "outputs": [
        {
          "output_type": "stream",
          "name": "stdout",
          "text": [
            "pip 23.1.2 from /usr/local/lib/python3.10/dist-packages/pip (python 3.10)\n"
          ]
        }
      ]
    },
    {
      "cell_type": "code",
      "source": [
        "from pyspark.sql import SparkSession"
      ],
      "metadata": {
        "id": "rs52S83G8YmE"
      },
      "execution_count": null,
      "outputs": []
    },
    {
      "cell_type": "code",
      "source": [
        "spark= SparkSession.builder.appName(\"DataFrame\").getOrCreate()"
      ],
      "metadata": {
        "id": "h6rc0-Ao8feE"
      },
      "execution_count": null,
      "outputs": []
    },
    {
      "cell_type": "code",
      "source": [
        "!pip install findspark"
      ],
      "metadata": {
        "colab": {
          "base_uri": "https://localhost:8080/"
        },
        "id": "yfog09tj8l0k",
        "outputId": "502e8a53-298b-4a93-940b-9252fad42b07"
      },
      "execution_count": null,
      "outputs": [
        {
          "output_type": "stream",
          "name": "stdout",
          "text": [
            "Collecting findspark\n",
            "  Downloading findspark-2.0.1-py2.py3-none-any.whl (4.4 kB)\n",
            "Installing collected packages: findspark\n",
            "Successfully installed findspark-2.0.1\n"
          ]
        }
      ]
    },
    {
      "cell_type": "code",
      "source": [
        "spark"
      ],
      "metadata": {
        "colab": {
          "base_uri": "https://localhost:8080/",
          "height": 222
        },
        "id": "48gSx44O9F30",
        "outputId": "1365d56f-4a4b-4498-e172-60b2b7725235"
      },
      "execution_count": null,
      "outputs": [
        {
          "output_type": "execute_result",
          "data": {
            "text/plain": [
              "<pyspark.sql.session.SparkSession at 0x7e6b67c88940>"
            ],
            "text/html": [
              "\n",
              "            <div>\n",
              "                <p><b>SparkSession - in-memory</b></p>\n",
              "                \n",
              "        <div>\n",
              "            <p><b>SparkContext</b></p>\n",
              "\n",
              "            <p><a href=\"http://9c9bedf986f8:4040\">Spark UI</a></p>\n",
              "\n",
              "            <dl>\n",
              "              <dt>Version</dt>\n",
              "                <dd><code>v3.5.0</code></dd>\n",
              "              <dt>Master</dt>\n",
              "                <dd><code>local[*]</code></dd>\n",
              "              <dt>AppName</dt>\n",
              "                <dd><code>DataFrame</code></dd>\n",
              "            </dl>\n",
              "        </div>\n",
              "        \n",
              "            </div>\n",
              "        "
            ]
          },
          "metadata": {},
          "execution_count": 6
        }
      ]
    },
    {
      "cell_type": "code",
      "source": [
        "df=spark.read.option(\"header\",\"true\").csv(\"/content/credit_card_data.csv\")"
      ],
      "metadata": {
        "id": "TPYM6TOI9OWM"
      },
      "execution_count": null,
      "outputs": []
    },
    {
      "cell_type": "code",
      "source": [
        "df.printSchema()"
      ],
      "metadata": {
        "colab": {
          "base_uri": "https://localhost:8080/"
        },
        "id": "Utr9TYzHESb9",
        "outputId": "f18e32e9-2c11-4ac7-ba01-1d16aba15e8b"
      },
      "execution_count": null,
      "outputs": [
        {
          "output_type": "stream",
          "name": "stdout",
          "text": [
            "root\n",
            " |-- ID: string (nullable = true)\n",
            " |-- Gender: string (nullable = true)\n",
            " |-- Has a car: string (nullable = true)\n",
            " |-- Has a property: string (nullable = true)\n",
            " |-- Children count: string (nullable = true)\n",
            " |-- Income: string (nullable = true)\n",
            " |-- Employment status: string (nullable = true)\n",
            " |-- Education level: string (nullable = true)\n",
            " |-- Marital status: string (nullable = true)\n",
            " |-- Dwelling: string (nullable = true)\n",
            " |-- Age: string (nullable = true)\n",
            " |-- Employment length: string (nullable = true)\n",
            " |-- Has a mobile phone: string (nullable = true)\n",
            " |-- Has a work phone: string (nullable = true)\n",
            " |-- Has a phone: string (nullable = true)\n",
            " |-- Has an email: string (nullable = true)\n",
            " |-- Job title: string (nullable = true)\n",
            " |-- Family member count: string (nullable = true)\n",
            " |-- Account age: string (nullable = true)\n",
            " |-- Is high risk: string (nullable = true)\n",
            "\n"
          ]
        }
      ]
    },
    {
      "cell_type": "code",
      "source": [
        "df.head(5)"
      ],
      "metadata": {
        "colab": {
          "base_uri": "https://localhost:8080/"
        },
        "id": "1rDxaiKAEXgr",
        "outputId": "cfa5b45f-f04b-48de-97dc-6596c75dca22"
      },
      "execution_count": null,
      "outputs": [
        {
          "output_type": "execute_result",
          "data": {
            "text/plain": [
              "[Row(ID='5037048', Gender='M', Has a car='Y', Has a property='Y', Children count='0', Income='135000.0', Employment status='Working', Education level='Secondary / secondary special', Marital status='Married', Dwelling='With parents', Age='-16271', Employment length='-3111', Has a mobile phone='1', Has a work phone='0', Has a phone='0', Has an email='0', Job title='Core staff', Family member count='2.0', Account age='-17.0', Is high risk='0'),\n",
              " Row(ID='5044630', Gender='F', Has a car='Y', Has a property='N', Children count='1', Income='135000.0', Employment status='Commercial associate', Education level='Higher education', Marital status='Single / not married', Dwelling='House / apartment', Age='-10130', Employment length='-1651', Has a mobile phone='1', Has a work phone='0', Has a phone='0', Has an email='0', Job title='Accountants', Family member count='2.0', Account age='-1.0', Is high risk='0'),\n",
              " Row(ID='5079079', Gender='F', Has a car='N', Has a property='Y', Children count='2', Income='180000.0', Employment status='Commercial associate', Education level='Secondary / secondary special', Marital status='Married', Dwelling='House / apartment', Age='-12821', Employment length='-5657', Has a mobile phone='1', Has a work phone='0', Has a phone='0', Has an email='0', Job title='Laborers', Family member count='4.0', Account age='-38.0', Is high risk='0'),\n",
              " Row(ID='5112872', Gender='F', Has a car='Y', Has a property='Y', Children count='0', Income='360000.0', Employment status='Commercial associate', Education level='Higher education', Marital status='Single / not married', Dwelling='House / apartment', Age='-20929', Employment length='-2046', Has a mobile phone='1', Has a work phone='0', Has a phone='0', Has an email='1', Job title='Managers', Family member count='1.0', Account age='-11.0', Is high risk='0'),\n",
              " Row(ID='5105858', Gender='F', Has a car='N', Has a property='N', Children count='0', Income='270000.0', Employment status='Working', Education level='Secondary / secondary special', Marital status='Separated', Dwelling='House / apartment', Age='-16207', Employment length='-515', Has a mobile phone='1', Has a work phone='0', Has a phone='1', Has an email='0', Job title=None, Family member count='1.0', Account age='-41.0', Is high risk='0')]"
            ]
          },
          "metadata": {},
          "execution_count": 24
        }
      ]
    },
    {
      "cell_type": "code",
      "source": [
        "df.show()"
      ],
      "metadata": {
        "colab": {
          "base_uri": "https://localhost:8080/"
        },
        "id": "zjbSie7KEaKj",
        "outputId": "7b08ccae-00af-4ef2-bfb7-bc9827226fb4"
      },
      "execution_count": null,
      "outputs": [
        {
          "output_type": "stream",
          "name": "stdout",
          "text": [
            "+-------+------+---------+--------------+--------------+--------+--------------------+--------------------+--------------------+-------------------+------+-----------------+------------------+----------------+-----------+------------+--------------------+-------------------+-----------+------------+\n",
            "|     ID|Gender|Has a car|Has a property|Children count|  Income|   Employment status|     Education level|      Marital status|           Dwelling|   Age|Employment length|Has a mobile phone|Has a work phone|Has a phone|Has an email|           Job title|Family member count|Account age|Is high risk|\n",
            "+-------+------+---------+--------------+--------------+--------+--------------------+--------------------+--------------------+-------------------+------+-----------------+------------------+----------------+-----------+------------+--------------------+-------------------+-----------+------------+\n",
            "|5037048|     M|        Y|             Y|             0|135000.0|             Working|Secondary / secon...|             Married|       With parents|-16271|            -3111|                 1|               0|          0|           0|          Core staff|                2.0|      -17.0|           0|\n",
            "|5044630|     F|        Y|             N|             1|135000.0|Commercial associate|    Higher education|Single / not married|  House / apartment|-10130|            -1651|                 1|               0|          0|           0|         Accountants|                2.0|       -1.0|           0|\n",
            "|5079079|     F|        N|             Y|             2|180000.0|Commercial associate|Secondary / secon...|             Married|  House / apartment|-12821|            -5657|                 1|               0|          0|           0|            Laborers|                4.0|      -38.0|           0|\n",
            "|5112872|     F|        Y|             Y|             0|360000.0|Commercial associate|    Higher education|Single / not married|  House / apartment|-20929|            -2046|                 1|               0|          0|           1|            Managers|                1.0|      -11.0|           0|\n",
            "|5105858|     F|        N|             N|             0|270000.0|             Working|Secondary / secon...|           Separated|  House / apartment|-16207|             -515|                 1|               0|          1|           0|                NULL|                1.0|      -41.0|           0|\n",
            "|5100411|     F|        Y|             Y|             0|135000.0|             Working|Secondary / secon...|             Married|  House / apartment|-13251|            -3839|                 1|               1|          0|           0|         Accountants|                2.0|       -1.0|           0|\n",
            "|5022817|     M|        Y|             Y|             0|202500.0|             Working|Secondary / secon...|             Married|  House / apartment|-17262|            -1617|                 1|               0|          0|           0|          Core staff|                2.0|      -16.0|           0|\n",
            "|5009811|     F|        N|             N|             1|202500.0|             Working|Secondary / secon...|             Married|  House / apartment|-11813|            -3266|                 1|               1|          1|           0|         Sales staff|                3.0|      -21.0|           0|\n",
            "|5113922|     F|        N|             N|             0| 90000.0|           Pensioner|Secondary / secon...|Single / not married|Municipal apartment|-23478|           365243|                 1|               0|          0|           0|                NULL|                1.0|      -50.0|           0|\n",
            "|5021541|     F|        Y|             N|             1|306000.0|             Working|    Higher education|             Married|  House / apartment| -9310|            -1678|                 1|               0|          0|           0|                NULL|                3.0|      -13.0|           0|\n",
            "|5061509|     F|        N|             Y|             0|202500.0|           Pensioner|Secondary / secon...|             Married|  House / apartment|-21464|           365243|                 1|               0|          0|           0|                NULL|                2.0|      -15.0|           0|\n",
            "|5028439|     M|        Y|             Y|             0|315000.0|             Working|    Higher education|             Married|  House / apartment|-15586|            -3337|                 1|               0|          0|           0|            Managers|                2.0|       -6.0|           0|\n",
            "|5096280|     F|        N|             N|             0|360000.0|Commercial associate|    Higher education|           Separated|  House / apartment|-18168|            -3931|                 1|               1|          1|           0|                NULL|                1.0|      -13.0|           0|\n",
            "|5024159|     F|        N|             Y|             1|202500.0|             Working|Secondary / secon...|             Married|  House / apartment| -9685|            -1098|                 1|               0|          0|           0|         Sales staff|                3.0|       -6.0|           0|\n",
            "|5091895|     M|        N|             N|             0|157500.0|Commercial associate|    Higher education|Single / not married|  House / apartment|-10192|            -1600|                 1|               0|          0|           0|         Sales staff|                1.0|      -16.0|           0|\n",
            "|5009969|     F|        Y|             Y|             0|180000.0|       State servant|Secondary / secon...|             Married|  House / apartment|-20644|            -3873|                 1|               0|          0|           0|      Medicine staff|                2.0|      -41.0|           0|\n",
            "|5046544|     F|        N|             Y|             1|148500.0|             Working|Secondary / secon...|             Married|  House / apartment|-15083|             -847|                 1|               0|          0|           0|High skill tech s...|                3.0|      -55.0|           0|\n",
            "|5105991|     M|        N|             N|             0| 90000.0|             Working|Secondary / secon...|             Married|Municipal apartment|-13334|            -2829|                 1|               1|          1|           0|            Laborers|                2.0|      -15.0|           0|\n",
            "|5091715|     F|        Y|             Y|             1|157500.0|             Working|    Higher education|             Married|  House / apartment| -9766|            -2696|                 1|               1|          0|           0|         Sales staff|                3.0|      -23.0|           0|\n",
            "|5053194|     F|        N|             Y|             0|315000.0|             Working|    Higher education|             Married|  House / apartment|-15527|            -3792|                 1|               1|          1|           0|         Accountants|                2.0|      -44.0|           0|\n",
            "+-------+------+---------+--------------+--------------+--------+--------------------+--------------------+--------------------+-------------------+------+-----------------+------------------+----------------+-----------+------------+--------------------+-------------------+-----------+------------+\n",
            "only showing top 20 rows\n",
            "\n"
          ]
        }
      ]
    },
    {
      "cell_type": "code",
      "source": [
        "df.select(\"Income\").show()"
      ],
      "metadata": {
        "colab": {
          "base_uri": "https://localhost:8080/"
        },
        "id": "cJKh770qEg7V",
        "outputId": "3d1c5f54-4523-46c9-9ba1-66d0116040fd"
      },
      "execution_count": null,
      "outputs": [
        {
          "output_type": "stream",
          "name": "stdout",
          "text": [
            "+--------+\n",
            "|  Income|\n",
            "+--------+\n",
            "|135000.0|\n",
            "|135000.0|\n",
            "|180000.0|\n",
            "|360000.0|\n",
            "|270000.0|\n",
            "|135000.0|\n",
            "|202500.0|\n",
            "|202500.0|\n",
            "| 90000.0|\n",
            "|306000.0|\n",
            "|202500.0|\n",
            "|315000.0|\n",
            "|360000.0|\n",
            "|202500.0|\n",
            "|157500.0|\n",
            "|180000.0|\n",
            "|148500.0|\n",
            "| 90000.0|\n",
            "|157500.0|\n",
            "|315000.0|\n",
            "+--------+\n",
            "only showing top 20 rows\n",
            "\n"
          ]
        }
      ]
    },
    {
      "cell_type": "code",
      "source": [
        "df.select([\"Employment status\",\"Marital status\"]).show()"
      ],
      "metadata": {
        "colab": {
          "base_uri": "https://localhost:8080/"
        },
        "id": "W6GhL7mZErDs",
        "outputId": "e4fda004-9fb6-4bb4-d3e3-b1f71076b470"
      },
      "execution_count": null,
      "outputs": [
        {
          "output_type": "stream",
          "name": "stdout",
          "text": [
            "+--------------------+--------------------+\n",
            "|   Employment status|      Marital status|\n",
            "+--------------------+--------------------+\n",
            "|             Working|             Married|\n",
            "|Commercial associate|Single / not married|\n",
            "|Commercial associate|             Married|\n",
            "|Commercial associate|Single / not married|\n",
            "|             Working|           Separated|\n",
            "|             Working|             Married|\n",
            "|             Working|             Married|\n",
            "|             Working|             Married|\n",
            "|           Pensioner|Single / not married|\n",
            "|             Working|             Married|\n",
            "|           Pensioner|             Married|\n",
            "|             Working|             Married|\n",
            "|Commercial associate|           Separated|\n",
            "|             Working|             Married|\n",
            "|Commercial associate|Single / not married|\n",
            "|       State servant|             Married|\n",
            "|             Working|             Married|\n",
            "|             Working|             Married|\n",
            "|             Working|             Married|\n",
            "|             Working|             Married|\n",
            "+--------------------+--------------------+\n",
            "only showing top 20 rows\n",
            "\n"
          ]
        }
      ]
    },
    {
      "cell_type": "code",
      "source": [
        "df.dtypes"
      ],
      "metadata": {
        "colab": {
          "base_uri": "https://localhost:8080/"
        },
        "id": "XPWijZ4JFIFO",
        "outputId": "9d3b699a-2646-4bd4-cf36-a9fe0407691d"
      },
      "execution_count": null,
      "outputs": [
        {
          "output_type": "execute_result",
          "data": {
            "text/plain": [
              "[('ID', 'string'),\n",
              " ('Gender', 'string'),\n",
              " ('Has a car', 'string'),\n",
              " ('Has a property', 'string'),\n",
              " ('Children count', 'string'),\n",
              " ('Income', 'string'),\n",
              " ('Employment status', 'string'),\n",
              " ('Education level', 'string'),\n",
              " ('Marital status', 'string'),\n",
              " ('Dwelling', 'string'),\n",
              " ('Age', 'string'),\n",
              " ('Employment length', 'string'),\n",
              " ('Has a mobile phone', 'string'),\n",
              " ('Has a work phone', 'string'),\n",
              " ('Has a phone', 'string'),\n",
              " ('Has an email', 'string'),\n",
              " ('Job title', 'string'),\n",
              " ('Family member count', 'string'),\n",
              " ('Account age', 'string'),\n",
              " ('Is high risk', 'string')]"
            ]
          },
          "metadata": {},
          "execution_count": 28
        }
      ]
    },
    {
      "cell_type": "code",
      "source": [
        "df.describe().show()"
      ],
      "metadata": {
        "colab": {
          "base_uri": "https://localhost:8080/"
        },
        "id": "oUR1Ddi7FRiM",
        "outputId": "9d084a15-f612-4d38-a67a-3c209759535b"
      },
      "execution_count": null,
      "outputs": [
        {
          "output_type": "stream",
          "name": "stdout",
          "text": [
            "+-------+-----------------+------+---------+--------------+-------------------+------------------+--------------------+--------------------+--------------+---------------+-------------------+-----------------+------------------+-------------------+-------------------+-------------------+--------------------+-------------------+-------------------+--------------------+\n",
            "|summary|               ID|Gender|Has a car|Has a property|     Children count|            Income|   Employment status|     Education level|Marital status|       Dwelling|                Age|Employment length|Has a mobile phone|   Has a work phone|        Has a phone|       Has an email|           Job title|Family member count|        Account age|        Is high risk|\n",
            "+-------+-----------------+------+---------+--------------+-------------------+------------------+--------------------+--------------------+--------------+---------------+-------------------+-----------------+------------------+-------------------+-------------------+-------------------+--------------------+-------------------+-------------------+--------------------+\n",
            "|  count|            29165| 29165|    29165|         29165|              29165|             29165|               29165|               29165|         29165|          29165|              29165|            29165|             29165|              29165|              29165|              29165|               20138|              29165|              29165|               29165|\n",
            "|   mean|5078231.598251329|  NULL|     NULL|          NULL|0.43079033087605006|186890.38534201955|                NULL|                NULL|          NULL|           NULL|-15979.477490142293|59257.76125492885|               1.0|0.22430996056917538| 0.2949768558203326|0.09027944453968799|                NULL|  2.197531287502143|-26.137733584776274|0.017109549117092407|\n",
            "| stddev|41824.00070770098|  NULL|     NULL|          NULL| 0.7418821928976139|101409.64432687846|                NULL|                NULL|          NULL|           NULL|  4202.997485452926|137655.8834583399|               0.0| 0.4171342328879685|0.45604017503803435| 0.2865866056613126|                NULL| 0.9121887239835872| 16.486701710594726|  0.1296818764332519|\n",
            "|    min|          5008804|     F|        N|             N|                  0|          101250.0|Commercial associate|     Academic degree|Civil marriage|Co-op apartment|             -10000|            -1000|                 1|                  0|                  0|                  0|         Accountants|                1.0|               -1.0|                   0|\n",
            "|    max|          5150485|     M|        Y|             Y|                  7|           99900.0|             Working|Secondary / secon...|         Widow|   With parents|              -9996|           365243|                 1|                  1|                  1|                  1|Waiters/barmen staff|                9.0|                0.0|                   1|\n",
            "+-------+-----------------+------+---------+--------------+-------------------+------------------+--------------------+--------------------+--------------+---------------+-------------------+-----------------+------------------+-------------------+-------------------+-------------------+--------------------+-------------------+-------------------+--------------------+\n",
            "\n"
          ]
        }
      ]
    },
    {
      "cell_type": "code",
      "source": [
        "df1=df.withColumn(\"new_age\",df[\"Age\"]+2)"
      ],
      "metadata": {
        "id": "03bxWsyfFXl0"
      },
      "execution_count": null,
      "outputs": []
    },
    {
      "cell_type": "code",
      "source": [
        "df1"
      ],
      "metadata": {
        "colab": {
          "base_uri": "https://localhost:8080/"
        },
        "id": "_U0CTqm2Ft_7",
        "outputId": "6e509cda-c940-44aa-dd70-2fc6dcd8d377"
      },
      "execution_count": null,
      "outputs": [
        {
          "output_type": "execute_result",
          "data": {
            "text/plain": [
              "DataFrame[ID: string, Gender: string, Has a car: string, Has a property: string, Children count: string, Income: string, Employment status: string, Education level: string, Marital status: string, Dwelling: string, Age: string, Employment length: string, Has a mobile phone: string, Has a work phone: string, Has a phone: string, Has an email: string, Job title: string, Family member count: string, Account age: string, Is high risk: string, new_age: double]"
            ]
          },
          "metadata": {},
          "execution_count": 31
        }
      ]
    },
    {
      "cell_type": "code",
      "source": [
        "df1.select([\"Age\",\"new_age\"]).show()"
      ],
      "metadata": {
        "colab": {
          "base_uri": "https://localhost:8080/"
        },
        "id": "2hjcq-AUFv0D",
        "outputId": "5e797df7-7ac3-4a85-b3ce-6f37e6b4215e"
      },
      "execution_count": null,
      "outputs": [
        {
          "output_type": "stream",
          "name": "stdout",
          "text": [
            "+------+--------+\n",
            "|   Age| new_age|\n",
            "+------+--------+\n",
            "|-16271|-16269.0|\n",
            "|-10130|-10128.0|\n",
            "|-12821|-12819.0|\n",
            "|-20929|-20927.0|\n",
            "|-16207|-16205.0|\n",
            "|-13251|-13249.0|\n",
            "|-17262|-17260.0|\n",
            "|-11813|-11811.0|\n",
            "|-23478|-23476.0|\n",
            "| -9310| -9308.0|\n",
            "|-21464|-21462.0|\n",
            "|-15586|-15584.0|\n",
            "|-18168|-18166.0|\n",
            "| -9685| -9683.0|\n",
            "|-10192|-10190.0|\n",
            "|-20644|-20642.0|\n",
            "|-15083|-15081.0|\n",
            "|-13334|-13332.0|\n",
            "| -9766| -9764.0|\n",
            "|-15527|-15525.0|\n",
            "+------+--------+\n",
            "only showing top 20 rows\n",
            "\n"
          ]
        }
      ]
    },
    {
      "cell_type": "code",
      "source": [
        "df1.drop(\"new_age\")"
      ],
      "metadata": {
        "colab": {
          "base_uri": "https://localhost:8080/"
        },
        "id": "c1OU_3tbF357",
        "outputId": "f819e4ba-2b8d-4d27-9172-8ca175d1525d"
      },
      "execution_count": null,
      "outputs": [
        {
          "output_type": "execute_result",
          "data": {
            "text/plain": [
              "DataFrame[ID: string, Gender: string, Has a car: string, Has a property: string, Children count: string, Income: string, Employment status: string, Education level: string, Marital status: string, Dwelling: string, Age: string, Employment length: string, Has a mobile phone: string, Has a work phone: string, Has a phone: string, Has an email: string, Job title: string, Family member count: string, Account age: string, Is high risk: string]"
            ]
          },
          "metadata": {},
          "execution_count": 33
        }
      ]
    }
  ]
}